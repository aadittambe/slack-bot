{
 "cells": [
  {
   "cell_type": "markdown",
   "id": "5e0a1043-b2ff-4a3f-9176-eb322b935c78",
   "metadata": {},
   "source": [
    "# Slack Bot"
   ]
  },
  {
   "cell_type": "markdown",
   "id": "2938791c-032d-4cc0-927b-20d1acd858bf",
   "metadata": {},
   "source": [
    "## Load libraries"
   ]
  },
  {
   "cell_type": "code",
   "execution_count": 64,
   "id": "2bcbe046-234a-433d-a643-ef40bfcd8a16",
   "metadata": {},
   "outputs": [],
   "source": [
    "import os\n",
    "import pandas as pd\n",
    "from slack import WebClient\n",
    "from slack.errors import SlackApiError\n",
    "pd.set_option('display.max_columns', None)"
   ]
  },
  {
   "cell_type": "markdown",
   "id": "a13edabd-a4a6-4352-94da-0587ce46aae8",
   "metadata": {},
   "source": [
    "## Slack options"
   ]
  },
  {
   "cell_type": "code",
   "execution_count": 65,
   "id": "0e993f5e-a883-40c6-b63d-edaf00c9d89e",
   "metadata": {},
   "outputs": [
    {
     "ename": "KeyError",
     "evalue": "'SLACK_API_TOKEN'",
     "output_type": "error",
     "traceback": [
      "\u001b[0;31m---------------------------------------------------------------------------\u001b[0m",
      "\u001b[0;31mKeyError\u001b[0m                                  Traceback (most recent call last)",
      "Input \u001b[0;32mIn [65]\u001b[0m, in \u001b[0;36m<cell line: 1>\u001b[0;34m()\u001b[0m\n\u001b[0;32m----> 1\u001b[0m slack_token \u001b[38;5;241m=\u001b[39m \u001b[43mos\u001b[49m\u001b[38;5;241;43m.\u001b[39;49m\u001b[43menviron\u001b[49m\u001b[43m[\u001b[49m\u001b[38;5;124;43m\"\u001b[39;49m\u001b[38;5;124;43mSLACK_API_TOKEN\u001b[39;49m\u001b[38;5;124;43m\"\u001b[39;49m\u001b[43m]\u001b[49m\n\u001b[1;32m      2\u001b[0m client \u001b[38;5;241m=\u001b[39m WebClient(token\u001b[38;5;241m=\u001b[39mslack_token)\n",
      "File \u001b[0;32m/Library/Frameworks/Python.framework/Versions/3.10/lib/python3.10/os.py:679\u001b[0m, in \u001b[0;36m_Environ.__getitem__\u001b[0;34m(self, key)\u001b[0m\n\u001b[1;32m    676\u001b[0m     value \u001b[38;5;241m=\u001b[39m \u001b[38;5;28mself\u001b[39m\u001b[38;5;241m.\u001b[39m_data[\u001b[38;5;28mself\u001b[39m\u001b[38;5;241m.\u001b[39mencodekey(key)]\n\u001b[1;32m    677\u001b[0m \u001b[38;5;28;01mexcept\u001b[39;00m \u001b[38;5;167;01mKeyError\u001b[39;00m:\n\u001b[1;32m    678\u001b[0m     \u001b[38;5;66;03m# raise KeyError with the original key value\u001b[39;00m\n\u001b[0;32m--> 679\u001b[0m     \u001b[38;5;28;01mraise\u001b[39;00m \u001b[38;5;167;01mKeyError\u001b[39;00m(key) \u001b[38;5;28;01mfrom\u001b[39;00m \u001b[38;5;28mNone\u001b[39m\n\u001b[1;32m    680\u001b[0m \u001b[38;5;28;01mreturn\u001b[39;00m \u001b[38;5;28mself\u001b[39m\u001b[38;5;241m.\u001b[39mdecodevalue(value)\n",
      "\u001b[0;31mKeyError\u001b[0m: 'SLACK_API_TOKEN'"
     ]
    }
   ],
   "source": [
    "slack_token = os.environ[\"SLACK_API_TOKEN\"]\n",
    "client = WebClient(token=slack_token)"
   ]
  },
  {
   "cell_type": "markdown",
   "id": "63f85a9b-6543-45cd-a269-fe8e67fb4aa1",
   "metadata": {},
   "source": [
    "## Load data "
   ]
  },
  {
   "cell_type": "code",
   "execution_count": 28,
   "id": "f9911346-2657-44e0-b23a-92cfcd5f0ec6",
   "metadata": {},
   "outputs": [
    {
     "name": "stdout",
     "output_type": "stream",
     "text": [
      "<class 'pandas.core.frame.DataFrame'>\n",
      "RangeIndex: 54 entries, 0 to 53\n",
      "Columns: 116 entries, state to total_patients_hospitalized_confirmed_influenza_coverage\n",
      "dtypes: float64(30), int64(84), object(2)\n",
      "memory usage: 49.1+ KB\n"
     ]
    }
   ],
   "source": [
    "data = pd.read_json('https://healthdata.gov/resource/6xf2-c3ie.json')\n",
    "data.info()"
   ]
  },
  {
   "cell_type": "markdown",
   "id": "6c2e1601-8be3-4b7b-a7cf-9074e4b3a31a",
   "metadata": {},
   "source": [
    "## Clean data"
   ]
  },
  {
   "cell_type": "code",
   "execution_count": 37,
   "id": "d4e88b74-1fe4-4dba-8dd8-300c43e7b65a",
   "metadata": {},
   "outputs": [
    {
     "name": "stdout",
     "output_type": "stream",
     "text": [
      "<class 'pandas.core.frame.DataFrame'>\n",
      "Int64Index: 51 entries, 0 to 53\n",
      "Columns: 116 entries, state to total_patients_hospitalized_confirmed_influenza_coverage\n",
      "dtypes: float64(30), int64(84), object(2)\n",
      "memory usage: 46.6+ KB\n"
     ]
    }
   ],
   "source": [
    "data = data[data.state != 'AS' ]\n",
    "data = data[data.state != 'PR' ]\n",
    "data = data[data.state != 'VI' ]\n",
    "data.info()"
   ]
  },
  {
   "cell_type": "code",
   "execution_count": 38,
   "id": "0883a753-56d1-47a3-8155-cd9681455aa1",
   "metadata": {},
   "outputs": [
    {
     "data": {
      "text/plain": [
       "697114"
      ]
     },
     "execution_count": 38,
     "metadata": {},
     "output_type": "execute_result"
    }
   ],
   "source": [
    "total_beds = data['inpatient_beds'].sum()\n",
    "total_beds"
   ]
  },
  {
   "cell_type": "code",
   "execution_count": 39,
   "id": "ee27cb92-27c2-4ac4-b92b-acb1e3dd7966",
   "metadata": {},
   "outputs": [
    {
     "data": {
      "text/plain": [
       "16544"
      ]
     },
     "execution_count": 39,
     "metadata": {},
     "output_type": "execute_result"
    }
   ],
   "source": [
    "covid_occupied_beds = data['inpatient_beds_used_covid'].sum()\n",
    "covid_occupied_beds"
   ]
  },
  {
   "cell_type": "code",
   "execution_count": 44,
   "id": "667691d4-0f8a-4d55-a010-c1ae83a7f2d1",
   "metadata": {},
   "outputs": [
    {
     "data": {
      "text/plain": [
       "2.37"
      ]
     },
     "execution_count": 44,
     "metadata": {},
     "output_type": "execute_result"
    }
   ],
   "source": [
    "percent_covid_beds = round(((covid_occupied_beds/total_beds)*100),2)\n",
    "percent_covid_beds"
   ]
  },
  {
   "cell_type": "code",
   "execution_count": 49,
   "id": "5e473b49-093b-424a-9bcd-a0fd7acc4c62",
   "metadata": {},
   "outputs": [],
   "source": [
    "test_msg = f\"📢 Out of {total_beds} available hospital beds in the country 🛏, {covid_occupied_beds} beds are occupied by COVID-19 patients today 😷, which account for {percent_covid_beds} percent of all beds.\"\n",
    "\n"
   ]
  },
  {
   "cell_type": "code",
   "execution_count": 50,
   "id": "f4b9a682-29d1-4556-b779-246646631b1d",
   "metadata": {},
   "outputs": [
    {
     "data": {
      "text/plain": [
       "'📢 Out of 697114 available hospital beds in the country 🛏, 16544 beds are occupied by COVID-19 patients today 😷, which account for 2.37 percent of all beds.'"
      ]
     },
     "execution_count": 50,
     "metadata": {},
     "output_type": "execute_result"
    }
   ],
   "source": [
    "test_msg"
   ]
  },
  {
   "cell_type": "code",
   "execution_count": 53,
   "id": "f7b54fbb-48f7-42b8-bff7-f89fb6594b98",
   "metadata": {},
   "outputs": [
    {
     "ename": "KeyError",
     "evalue": "'SLACK_API_TOKEN'",
     "output_type": "error",
     "traceback": [
      "\u001b[0;31m---------------------------------------------------------------------------\u001b[0m",
      "\u001b[0;31mKeyError\u001b[0m                                  Traceback (most recent call last)",
      "Input \u001b[0;32mIn [53]\u001b[0m, in \u001b[0;36m<cell line: 1>\u001b[0;34m()\u001b[0m\n\u001b[0;32m----> 1\u001b[0m slack_token \u001b[38;5;241m=\u001b[39m \u001b[43mos\u001b[49m\u001b[38;5;241;43m.\u001b[39;49m\u001b[43menviron\u001b[49m\u001b[43m[\u001b[49m\u001b[38;5;124;43m\"\u001b[39;49m\u001b[38;5;124;43mSLACK_API_TOKEN\u001b[39;49m\u001b[38;5;124;43m\"\u001b[39;49m\u001b[43m]\u001b[49m\n\u001b[1;32m      2\u001b[0m client \u001b[38;5;241m=\u001b[39m WebClient(token\u001b[38;5;241m=\u001b[39mslack_token)\n\u001b[1;32m      4\u001b[0m \u001b[38;5;28;01mtry\u001b[39;00m:\n",
      "File \u001b[0;32m/Library/Frameworks/Python.framework/Versions/3.10/lib/python3.10/os.py:679\u001b[0m, in \u001b[0;36m_Environ.__getitem__\u001b[0;34m(self, key)\u001b[0m\n\u001b[1;32m    676\u001b[0m     value \u001b[38;5;241m=\u001b[39m \u001b[38;5;28mself\u001b[39m\u001b[38;5;241m.\u001b[39m_data[\u001b[38;5;28mself\u001b[39m\u001b[38;5;241m.\u001b[39mencodekey(key)]\n\u001b[1;32m    677\u001b[0m \u001b[38;5;28;01mexcept\u001b[39;00m \u001b[38;5;167;01mKeyError\u001b[39;00m:\n\u001b[1;32m    678\u001b[0m     \u001b[38;5;66;03m# raise KeyError with the original key value\u001b[39;00m\n\u001b[0;32m--> 679\u001b[0m     \u001b[38;5;28;01mraise\u001b[39;00m \u001b[38;5;167;01mKeyError\u001b[39;00m(key) \u001b[38;5;28;01mfrom\u001b[39;00m \u001b[38;5;28mNone\u001b[39m\n\u001b[1;32m    680\u001b[0m \u001b[38;5;28;01mreturn\u001b[39;00m \u001b[38;5;28mself\u001b[39m\u001b[38;5;241m.\u001b[39mdecodevalue(value)\n",
      "\u001b[0;31mKeyError\u001b[0m: 'SLACK_API_TOKEN'"
     ]
    }
   ],
   "source": [
    "slack_token = os.environ[\"SLACK_API_TOKEN\"]\n",
    "client = WebClient(token=slack_token)\n",
    "\n",
    "try:\n",
    "    response = client.chat_postMessage(\n",
    "        channel=\"slack-bots\",\n",
    "        text=test_msg\n",
    "    )\n",
    "except SlackApiError as e:\n",
    "    assert e.response[\"error\"] "
   ]
  },
  {
   "cell_type": "code",
   "execution_count": null,
   "id": "17b8b997-9fde-4ee7-9407-40580658a57c",
   "metadata": {},
   "outputs": [],
   "source": []
  }
 ],
 "metadata": {
  "kernelspec": {
   "display_name": "Python 3 (ipykernel)",
   "language": "python",
   "name": "python3"
  },
  "language_info": {
   "codemirror_mode": {
    "name": "ipython",
    "version": 3
   },
   "file_extension": ".py",
   "mimetype": "text/x-python",
   "name": "python",
   "nbconvert_exporter": "python",
   "pygments_lexer": "ipython3",
   "version": "3.10.2"
  }
 },
 "nbformat": 4,
 "nbformat_minor": 5
}

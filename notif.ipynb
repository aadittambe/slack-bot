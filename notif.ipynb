{
 "cells": [
  {
   "cell_type": "markdown",
   "id": "5e0a1043-b2ff-4a3f-9176-eb322b935c78",
   "metadata": {},
   "source": [
    "# Slack Bot"
   ]
  },
  {
   "cell_type": "markdown",
   "id": "2938791c-032d-4cc0-927b-20d1acd858bf",
   "metadata": {},
   "source": [
    "## Load libraries"
   ]
  },
  {
   "cell_type": "code",
   "execution_count": null,
   "id": "2bcbe046-234a-433d-a643-ef40bfcd8a16",
   "metadata": {},
   "outputs": [],
   "source": [
    "import os\n",
    "import pandas as pd\n",
    "from slack import WebClient\n",
    "from slack.errors import SlackApiError\n",
    "pd.set_option('display.max_columns', None)"
   ]
  },
  {
   "cell_type": "markdown",
   "id": "a13edabd-a4a6-4352-94da-0587ce46aae8",
   "metadata": {},
   "source": [
    "## Slack options"
   ]
  },
  {
   "cell_type": "code",
   "execution_count": null,
   "id": "0e993f5e-a883-40c6-b63d-edaf00c9d89e",
   "metadata": {},
   "outputs": [],
   "source": [
    "slack_token = os.environ[\"SLACK_API_TOKEN\"]\n",
    "client = WebClient(token=slack_token)"
   ]
  },
  {
   "cell_type": "markdown",
   "id": "63f85a9b-6543-45cd-a269-fe8e67fb4aa1",
   "metadata": {},
   "source": [
    "## Load data "
   ]
  },
  {
   "cell_type": "code",
   "execution_count": null,
   "id": "f9911346-2657-44e0-b23a-92cfcd5f0ec6",
   "metadata": {},
   "outputs": [
    {
     "name": "stdout",
     "output_type": "stream",
     "text": [
      "<class 'pandas.core.frame.DataFrame'>\n",
      "RangeIndex: 54 entries, 0 to 53\n",
      "Columns: 116 entries, state to total_patients_hospitalized_confirmed_influenza_coverage\n",
      "dtypes: float64(30), int64(84), object(2)\n",
      "memory usage: 49.1+ KB\n"
     ]
    }
   ],
   "source": [
    "data = pd.read_json('https://healthdata.gov/resource/6xf2-c3ie.json')\n",
    "data.info()"
   ]
  },
  {
   "cell_type": "markdown",
   "id": "6c2e1601-8be3-4b7b-a7cf-9074e4b3a31a",
   "metadata": {},
   "source": [
    "## Clean data"
   ]
  },
  {
   "cell_type": "code",
   "execution_count": null,
   "id": "d4e88b74-1fe4-4dba-8dd8-300c43e7b65a",
   "metadata": {},
   "outputs": [
    {
     "name": "stdout",
     "output_type": "stream",
     "text": [
      "<class 'pandas.core.frame.DataFrame'>\n",
      "Int64Index: 51 entries, 0 to 53\n",
      "Columns: 116 entries, state to total_patients_hospitalized_confirmed_influenza_coverage\n",
      "dtypes: float64(30), int64(84), object(2)\n",
      "memory usage: 46.6+ KB\n"
     ]
    }
   ],
   "source": [
    "data = data[data.state != 'AS' ]\n",
    "data = data[data.state != 'PR' ]\n",
    "data = data[data.state != 'VI' ]\n",
    "data.info()"
   ]
  },
  {
   "cell_type": "markdown",
   "id": "0a228ae7-6824-4f31-937d-2f7540bbc1fe",
   "metadata": {},
   "source": [
    "## Values"
   ]
  },
  {
   "cell_type": "markdown",
   "id": "0152d19a-658f-4083-88d4-ec14d3a01ef6",
   "metadata": {},
   "source": [
    "### Covid beds"
   ]
  },
  {
   "cell_type": "code",
   "execution_count": 35,
   "id": "0883a753-56d1-47a3-8155-cd9681455aa1",
   "metadata": {},
   "outputs": [],
   "source": [
    "total_beds = data['inpatient_beds'].sum()\n",
    "covid_occupied_beds = data['inpatient_beds_used_covid'].sum()\n",
    "percent_covid_beds = round(((covid_occupied_beds/total_beds)*100),2)"
   ]
  },
  {
   "cell_type": "markdown",
   "id": "75684a39-ff70-4311-b004-86511de5548b",
   "metadata": {},
   "source": [
    "### Staffing"
   ]
  },
  {
   "cell_type": "code",
   "execution_count": 56,
   "id": "f1638f50-561a-4a81-9f1f-2201a3100a1c",
   "metadata": {},
   "outputs": [
    {
     "data": {
      "text/plain": [
       "4.91"
      ]
     },
     "execution_count": 56,
     "metadata": {},
     "output_type": "execute_result"
    }
   ],
   "source": [
    "critical_staffing_shortage_today_yes = data['critical_staffing_shortage_today_yes'].sum()\n",
    "critical_staffing_shortage_today_no = data['critical_staffing_shortage_today_no'].sum()\n",
    "critical_staffing_shortage_today_not_reported = data['critical_staffing_shortage_today_not_reported'].sum()\n",
    "total_hospitals = critical_staffing_shortage_today_yes + critical_staffing_shortage_today_no + critical_staffing_shortage_today_not_reported\n",
    "\n",
    "percent_hospitals_critical_shortages = round(((critical_staffing_shortage_today_yes/total_hospitals)*100),2)"
   ]
  },
  {
   "cell_type": "markdown",
   "id": "01b9cbd0-2d1b-406c-8193-47f689aa6b56",
   "metadata": {},
   "source": [
    "## Write out message"
   ]
  },
  {
   "cell_type": "code",
   "execution_count": 57,
   "id": "5e473b49-093b-424a-9bcd-a0fd7acc4c62",
   "metadata": {},
   "outputs": [],
   "source": [
    "msg = f\"\"\"📢 Daily COVID-19 hospitalization update 📢\n",
    "🛏 Out of {(format (total_beds, ',d'))} available hospital beds in the country, {(format(covid_occupied_beds, ',d'))} beds are occupied by COVID-19 patients today, which account for {percent_covid_beds} percent of all beds.\n",
    "🧑‍⚕️ {percent_hospitals_critical_shortages} percent hospitals in the country are reporting critical staffing shortages today.\n",
    "\"\"\""
   ]
  },
  {
   "cell_type": "code",
   "execution_count": 58,
   "id": "f4b9a682-29d1-4556-b779-246646631b1d",
   "metadata": {},
   "outputs": [
    {
     "data": {
      "text/plain": [
       "'📢📢📢\\n🛏 Out of 298 available hospital beds in the country, 3,199 beds are occupied by COVID-19 patients today, which account for 2.14 percent of all beds.\\n🧑\\u200d⚕️ 4.91 percent hospitals in the country are reporting critical staffing shortages today.\\n'"
      ]
     },
     "execution_count": 58,
     "metadata": {},
     "output_type": "execute_result"
    }
   ],
   "source": [
    "msg"
   ]
  },
  {
   "cell_type": "markdown",
   "id": "d9ef85d6-8298-4f6c-9fa4-656e99ba53e8",
   "metadata": {},
   "source": [
    "## Send Slack message"
   ]
  },
  {
   "cell_type": "code",
   "execution_count": 59,
   "id": "f7b54fbb-48f7-42b8-bff7-f89fb6594b98",
   "metadata": {},
   "outputs": [],
   "source": [
    "slack_token = os.environ[\"SLACK_API_TOKEN\"]\n",
    "client = WebClient(token=slack_token)\n",
    "try:\n",
    "    response = client.chat_postMessage(\n",
    "        channel=\"slack-bots\",\n",
    "        text=msg\n",
    "    )\n",
    "    print(\"success!\")\n",
    "except SlackApiError as e:\n",
    "    assert e.response[\"ok\"] is False\n",
    "    assert e.response[\"error\"]\n",
    "    print(f\"Got an error: {e.response['error']}\")"
   ]
  }
 ],
 "metadata": {
  "kernelspec": {
   "display_name": "Python 3 (ipykernel)",
   "language": "python",
   "name": "python3"
  },
  "language_info": {
   "codemirror_mode": {
    "name": "ipython",
    "version": 3
   },
   "file_extension": ".py",
   "mimetype": "text/x-python",
   "name": "python",
   "nbconvert_exporter": "python",
   "pygments_lexer": "ipython3",
   "version": "3.10.2"
  }
 },
 "nbformat": 4,
 "nbformat_minor": 5
}

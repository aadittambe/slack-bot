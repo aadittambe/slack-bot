{
 "cells": [
  {
   "cell_type": "markdown",
   "id": "5e0a1043-b2ff-4a3f-9176-eb322b935c78",
   "metadata": {},
   "source": [
    "# Slack Bot"
   ]
  },
  {
   "cell_type": "markdown",
   "id": "2938791c-032d-4cc0-927b-20d1acd858bf",
   "metadata": {},
   "source": [
    "## Load libraries"
   ]
  },
  {
   "cell_type": "code",
   "execution_count": 2,
   "id": "2bcbe046-234a-433d-a643-ef40bfcd8a16",
   "metadata": {},
   "outputs": [
    {
     "name": "stderr",
     "output_type": "stream",
     "text": [
      "/Users/aadittambe/.local/share/virtualenvs/slack-bot-GaVTNlXs/lib/python3.10/site-packages/slack/deprecation.py:16: UserWarning: slack package is deprecated. Please use slack_sdk.web/webhook/rtm package instead. For more info, go to https://slack.dev/python-slack-sdk/v3-migration/\n",
      "  warnings.warn(message)\n",
      "/Users/aadittambe/.local/share/virtualenvs/slack-bot-GaVTNlXs/lib/python3.10/site-packages/slack/deprecation.py:16: UserWarning: slack.errors package is deprecated. Please use slack_sdk.errors package instead. For more info, go to https://slack.dev/python-slack-sdk/v3-migration/\n",
      "  warnings.warn(message)\n"
     ]
    }
   ],
   "source": [
    "import os\n",
    "from csv import writer\n",
    "import pandas as pd\n",
    "from slack import WebClient\n",
    "from datetime import date\n",
    "from slack.errors import SlackApiError\n",
    "pd.set_option('display.max_columns', None)"
   ]
  },
  {
   "cell_type": "markdown",
   "id": "a13edabd-a4a6-4352-94da-0587ce46aae8",
   "metadata": {},
   "source": [
    "## Slack options"
   ]
  },
  {
   "cell_type": "code",
   "execution_count": 2,
   "id": "0e993f5e-a883-40c6-b63d-edaf00c9d89e",
   "metadata": {},
   "outputs": [],
   "source": [
    "slack_token = os.environ[\"SLACK_API_TOKEN\"]\n",
    "client = WebClient(token=slack_token)"
   ]
  },
  {
   "cell_type": "markdown",
   "id": "63f85a9b-6543-45cd-a269-fe8e67fb4aa1",
   "metadata": {},
   "source": [
    "## Load data "
   ]
  },
  {
   "cell_type": "code",
   "execution_count": 3,
   "id": "f9911346-2657-44e0-b23a-92cfcd5f0ec6",
   "metadata": {},
   "outputs": [
    {
     "name": "stdout",
     "output_type": "stream",
     "text": [
      "<class 'pandas.core.frame.DataFrame'>\n",
      "RangeIndex: 54 entries, 0 to 53\n",
      "Columns: 116 entries, state to total_patients_hospitalized_confirmed_influenza_coverage\n",
      "dtypes: float64(29), int64(85), object(2)\n",
      "memory usage: 49.1+ KB\n"
     ]
    }
   ],
   "source": [
    "data = pd.read_json('https://healthdata.gov/resource/6xf2-c3ie.json')\n",
    "data.info()"
   ]
  },
  {
   "cell_type": "markdown",
   "id": "6c2e1601-8be3-4b7b-a7cf-9074e4b3a31a",
   "metadata": {},
   "source": [
    "## Clean data"
   ]
  },
  {
   "cell_type": "code",
   "execution_count": 4,
   "id": "d4e88b74-1fe4-4dba-8dd8-300c43e7b65a",
   "metadata": {},
   "outputs": [
    {
     "name": "stdout",
     "output_type": "stream",
     "text": [
      "<class 'pandas.core.frame.DataFrame'>\n",
      "Int64Index: 51 entries, 0 to 53\n",
      "Columns: 116 entries, state to total_patients_hospitalized_confirmed_influenza_coverage\n",
      "dtypes: float64(29), int64(85), object(2)\n",
      "memory usage: 46.6+ KB\n"
     ]
    }
   ],
   "source": [
    "data = data[data.state != 'AS' ]\n",
    "data = data[data.state != 'PR' ]\n",
    "data = data[data.state != 'VI' ]\n",
    "data.info()"
   ]
  },
  {
   "cell_type": "markdown",
   "id": "0a228ae7-6824-4f31-937d-2f7540bbc1fe",
   "metadata": {},
   "source": [
    "## National values analysis"
   ]
  },
  {
   "cell_type": "markdown",
   "id": "0152d19a-658f-4083-88d4-ec14d3a01ef6",
   "metadata": {},
   "source": [
    "### Covid beds"
   ]
  },
  {
   "cell_type": "code",
   "execution_count": 5,
   "id": "0883a753-56d1-47a3-8155-cd9681455aa1",
   "metadata": {},
   "outputs": [],
   "source": [
    "total_beds = data['inpatient_beds'].sum()\n",
    "covid_occupied_beds = data['inpatient_beds_used_covid'].sum()\n",
    "percent_covid_beds = round(((covid_occupied_beds/total_beds)*100),2)"
   ]
  },
  {
   "cell_type": "markdown",
   "id": "75684a39-ff70-4311-b004-86511de5548b",
   "metadata": {},
   "source": [
    "### Staffing"
   ]
  },
  {
   "cell_type": "code",
   "execution_count": 6,
   "id": "f1638f50-561a-4a81-9f1f-2201a3100a1c",
   "metadata": {},
   "outputs": [],
   "source": [
    "critical_staffing_shortage_today_yes = data['critical_staffing_shortage_today_yes'].sum()\n",
    "critical_staffing_shortage_today_no = data['critical_staffing_shortage_today_no'].sum()\n",
    "critical_staffing_shortage_today_not_reported = data['critical_staffing_shortage_today_not_reported'].sum()\n",
    "total_hospitals = critical_staffing_shortage_today_yes + critical_staffing_shortage_today_no + critical_staffing_shortage_today_not_reported\n",
    "\n",
    "percent_hospitals_critical_shortages = round(((critical_staffing_shortage_today_yes/total_hospitals)*100),2)"
   ]
  },
  {
   "cell_type": "markdown",
   "id": "f6c15ae4-a518-42f2-80be-9eaaf3754b92",
   "metadata": {},
   "source": [
    "today = date.today()\n",
    "### Write out to a national CSV"
   ]
  },
  {
   "cell_type": "code",
   "execution_count": 88,
   "id": "229130a8-ee43-4d54-9676-069c72290d2f",
   "metadata": {},
   "outputs": [],
   "source": [
    "head = [\"date\",\"total_beds\",\"covid_occupied_beds\",\"percent_covid_beds\",\"critical_staffing_shortage_today_yes\",\"critical_staffing_shortage_today_no\",\"critical_staffing_shortage_today_not_reported\",\"critical_staffing_shortage_today_yes\",\"percent_hospitals_critical_shortages\"]\n",
    "today = date.today()\n",
    "row = [today,total_beds,covid_occupied_beds,percent_covid_beds,critical_staffing_shortage_today_yes,critical_staffing_shortage_today_no,critical_staffing_shortage_today_not_reported,critical_staffing_shortage_today_yes,percent_hospitals_critical_shortages]\n",
    "with open('us_data.csv', 'a',encoding='utf8', newline='') as f_object:  \n",
    "    writer_object = writer(f_object)\n",
    "    writer_object.writerow(row)  \n",
    "    f_object.close()"
   ]
  },
  {
   "cell_type": "markdown",
   "id": "89e1ccaf-2678-43b8-814e-fe0d6a20c6fe",
   "metadata": {
    "tags": []
   },
   "source": [
    "## Maryland values analysis"
   ]
  },
  {
   "cell_type": "markdown",
   "id": "1fccf90f-2049-4ce3-bd81-e256b07ec37f",
   "metadata": {},
   "source": [
    "### Covid beds"
   ]
  },
  {
   "cell_type": "code",
   "execution_count": 61,
   "id": "837ac12c-40e7-48f0-a147-02b1eb18d649",
   "metadata": {},
   "outputs": [],
   "source": [
    "md = data[data.state == \"MD\"]"
   ]
  },
  {
   "cell_type": "code",
   "execution_count": 62,
   "id": "2d9ed09c-ab99-436d-949f-8d30ec0f8d1b",
   "metadata": {},
   "outputs": [],
   "source": [
    "md_beds = int(md['inpatient_beds'])\n",
    "md_covid_occupied_beds = int(md['inpatient_beds_used_covid'])\n",
    "md_percent_covid_beds = round(((md_covid_occupied_beds/md_beds)*100),2)"
   ]
  },
  {
   "cell_type": "markdown",
   "id": "b5b52fe3-955e-4e58-80b1-d8000a7ad5b7",
   "metadata": {},
   "source": [
    "### Md. staffing"
   ]
  },
  {
   "cell_type": "code",
   "execution_count": 90,
   "id": "2bc8a76b-2721-4d24-a607-e4ca207c9a4f",
   "metadata": {},
   "outputs": [],
   "source": [
    "md_critical_staffing_shortage_today_yes = int(md['critical_staffing_shortage_today_yes'])\n",
    "md_critical_staffing_shortage_today_no = int(md['critical_staffing_shortage_today_no'])\n",
    "md_critical_staffing_shortage_today_not_reported = int(md['critical_staffing_shortage_today_not_reported'])\n",
    "md_total_hospitals = md_critical_staffing_shortage_today_yes + md_critical_staffing_shortage_today_no + md_critical_staffing_shortage_today_not_reported\n",
    "\n",
    "md_percent_hospitals_critical_shortages = round(((md_critical_staffing_shortage_today_yes/md_total_hospitals)*100),2)"
   ]
  },
  {
   "cell_type": "markdown",
   "id": "774013bb-fe9d-49a1-9520-2b41b80250ef",
   "metadata": {},
   "source": [
    "### Write out Maryland CSV"
   ]
  },
  {
   "cell_type": "code",
   "execution_count": 93,
   "id": "c197ab6b-eb41-4dfe-b669-3c9cbf9fe215",
   "metadata": {},
   "outputs": [],
   "source": [
    "head = [\"date\",\"md_beds\",\"md_covid_occupied_beds\",\"md_percent_covid_beds\",\"md_critical_staffing_shortage_today_yes\",\"md_critical_staffing_shortage_today_no\",\"md_critical_staffing_shortage_today_not_reported\",\"md_critical_staffing_shortage_today_yes\",\"md_percent_hospitals_critical_shortages\"]\n",
    "row = [today,md_beds,md_covid_occupied_beds,md_percent_covid_beds,md_critical_staffing_shortage_today_yes,md_critical_staffing_shortage_today_no,md_critical_staffing_shortage_today_not_reported,md_critical_staffing_shortage_today_yes,md_percent_hospitals_critical_shortages]\n",
    "with open('md_data.csv', 'a',encoding='utf8', newline='') as f_object:  \n",
    "    writer_object = writer(f_object)\n",
    "    writer_object.writerow(row)  \n",
    "    f_object.close()"
   ]
  },
  {
   "cell_type": "markdown",
   "id": "24e405f7-e317-4ced-bfd6-10fbf6243d5c",
   "metadata": {},
   "source": [
    "## National-Md. Comparison analysis"
   ]
  },
  {
   "cell_type": "markdown",
   "id": "6012e44d-ad69-4666-8f5a-342ef80c7e6b",
   "metadata": {},
   "source": [
    "### Compare beds"
   ]
  },
  {
   "cell_type": "code",
   "execution_count": 67,
   "id": "dcafcd40-f0c4-43cc-9082-9b3805d03278",
   "metadata": {},
   "outputs": [],
   "source": [
    "if md_percent_covid_beds > percent_covid_beds:\n",
    "    beds_above_below = \"above\"\n",
    "elif md_percent_covid_beds < percent_covid_beds:\n",
    "    beds_above_below = \"below\"\n",
    "elif md_percent_covid_beds == percent_covid_beds:\n",
    "    beds_above_below = \"the same as\""
   ]
  },
  {
   "cell_type": "markdown",
   "id": "c5ea08ac-0d2a-40b2-b685-161fd22165f3",
   "metadata": {},
   "source": [
    "### Compare staffing levels"
   ]
  },
  {
   "cell_type": "code",
   "execution_count": 76,
   "id": "8de008af-ad9f-46c2-9e4f-d30cc4ef34a6",
   "metadata": {},
   "outputs": [],
   "source": [
    "if md_percent_hospitals_critical_shortages > percent_hospitals_critical_shortages:\n",
    "    shortage_below_above = \"above\"\n",
    "elif md_percent_hospitals_critical_shortages < percent_hospitals_critical_shortages:\n",
    "    shortage_below_above = \"below\"\n",
    "elif md_percent_hospitals_critical_shortages == percent_hospitals_critical_shortages:\n",
    "    shortage_below_above = \"the same as\""
   ]
  },
  {
   "cell_type": "markdown",
   "id": "f1e1e812-853f-4c97-b0a1-35464172e846",
   "metadata": {},
   "source": [
    "## Past seven days comparison"
   ]
  },
  {
   "cell_type": "markdown",
   "id": "6e3b2fcf-ed4e-4642-8b32-0827e7eae52f",
   "metadata": {
    "tags": []
   },
   "source": [
    "### National"
   ]
  },
  {
   "cell_type": "code",
   "execution_count": 115,
   "id": "3e2df08d-5a19-42ae-8a55-13b95f0bb792",
   "metadata": {
    "tags": []
   },
   "outputs": [],
   "source": [
    "with open('us_data.csv', 'r') as f: \n",
    "    today_line = f.readlines()[-1]\n",
    "    today_line_list = today_line.split(',')\n",
    "    try: \n",
    "        seven_days_ago_line = f.readlines()[-7]\n",
    "    except:\n",
    "        seven_days_ago_line = \"Not enough data to report\""
   ]
  },
  {
   "cell_type": "code",
   "execution_count": 120,
   "id": "d6233dcc-22f1-4528-88a3-127ec0d5a10c",
   "metadata": {},
   "outputs": [],
   "source": [
    "today_critical_shortage_hospitals = today_line_list[-1].strip()\n",
    "if seven_days_ago_line == \"Not enough data to report\":\n",
    "    week_ago_critical_shortage_hospitals = \"Not enough data to report\"\n",
    "else:\n",
    "    week_ago_critical_shortage_hospitals = seven_days_ago_line[-7].strip()"
   ]
  },
  {
   "cell_type": "markdown",
   "id": "5189a488-d283-4b7e-bd9b-9523b6506af4",
   "metadata": {},
   "source": [
    "### Md."
   ]
  },
  {
   "cell_type": "code",
   "execution_count": 123,
   "id": "b9ee66fb-e42f-49d4-b601-3ed970616134",
   "metadata": {},
   "outputs": [],
   "source": [
    "with open('md_data.csv', 'r') as f: \n",
    "    today_line = f.readlines()[-1]\n",
    "    today_line_list = today_line.split(',')\n",
    "    try: \n",
    "        md_seven_days_ago_line = f.readlines()[-7]\n",
    "    except:\n",
    "        md_seven_days_ago_line = \"Not enough data to report\""
   ]
  },
  {
   "cell_type": "code",
   "execution_count": 124,
   "id": "e47e4d22-c39d-425b-b65f-aaf57520f73a",
   "metadata": {},
   "outputs": [],
   "source": [
    "md_today_critical_shortage_hospitals = today_line_list[-1].strip()\n",
    "if md_seven_days_ago_line == \"Not enough data to report\":\n",
    "    md_week_ago_critical_shortage_hospitals = \"Not enough data to report\"\n",
    "else:\n",
    "    md_week_ago_critical_shortage_hospitals = md_seven_days_ago_line[-7].strip()"
   ]
  },
  {
   "cell_type": "markdown",
   "id": "01b9cbd0-2d1b-406c-8193-47f689aa6b56",
   "metadata": {},
   "source": [
    "## Write out message"
   ]
  },
  {
   "cell_type": "code",
   "execution_count": 140,
   "id": "5e473b49-093b-424a-9bcd-a0fd7acc4c62",
   "metadata": {},
   "outputs": [],
   "source": [
    "msg = f\"\"\"📢 Daily COVID-19 hospitalization update 📢\n",
    "Out of {(format (total_beds, ',d'))} available hospital beds in the country, {(format(covid_occupied_beds, ',d'))} beds are occupied by COVID-19 patients today, which account for {percent_covid_beds} percent of all beds.\n",
    "{percent_hospitals_critical_shortages} percent hospitals in the country are reporting critical staffing shortages today.\\n\n",
    "Maryland reported a total of {(format(md_beds, ',d'))} beds today out of which {md_covid_occupied_beds} — or {md_percent_covid_beds} percent — were occupied by COVID-19 patients, which is {beds_above_below} the national percentage. {md_percent_hospitals_critical_shortages} percent hospitals in the state are reporting a critical shortage, which is {shortage_below_above} the national percentage.\\n\n",
    "📊 📊 📊 \n",
    "Percentage of hospitals with critical shortages nationally, today: {today_critical_shortage_hospitals} \\n\n",
    "Percentage of hospitals with critical shortages nationally, a week ago: {week_ago_critical_shortage_hospitals} \\n\n",
    "Percentage of hospitals with critical shortages in Maryland, today: {md_today_critical_shortage_hospitals} \\n\n",
    "Percentage of hospitals with critical shortages in Maryland, a week ago: {md_week_ago_critical_shortage_hospitals} \\n\n",
    "--- \\n\n",
    "🔗 View raw U.S. data: https://raw.githubusercontent.com/aadittambe/slack-bot/main/us_data.csv \\n\n",
    "🔗 View raw Maryland data: https://raw.githubusercontent.com/aadittambe/slack-bot/main/md_data.csv \\n\n",
    "ℹ️ Source: https://healthdata.gov/dataset/COVID-19-Reported-Patient-Impact-and-Hospital-Capa/6xf2-c3ie \\n\n",
    "📁 Analysis: https://github.com/aadittambe/slack-bot\n",
    "\"\"\""
   ]
  },
  {
   "cell_type": "code",
   "execution_count": 141,
   "id": "f4b9a682-29d1-4556-b779-246646631b1d",
   "metadata": {},
   "outputs": [
    {
     "data": {
      "text/plain": [
       "'📢 Daily COVID-19 hospitalization update 📢\\nOut of 758,088 available hospital beds in the country, 15,029 beds are occupied by COVID-19 patients today, which account for 1.98 percent of all beds.\\n4.89 percent hospitals in the country are reporting critical staffing shortages today.\\n\\nMaryland reported a total of 11,639 beds today out of which 289 — or 2.48 percent — were occupied by COVID-19 patients, which is above the national percentage. 1.67 percent hospitals in the state are reporting a critical shortage, which is below the national percentage.\\n\\n📊 📊 📊 \\nPercentage of hospitals with critical shortages nationally, today: 4.89 \\n\\nPercentage of hospitals with critical shortages nationally, a week ago: Not enough data to report \\n\\nPercentage of hospitals with critical shortages in Maryland, today: 1.67 \\n\\nPercentage of hospitals with critical shortages in Maryland, a week ago: Not enough data to report \\n\\n--- \\n\\n🔗 View raw U.S. data: https://raw.githubusercontent.com/aadittambe/slack-bot/main/us_data.csv \\n\\n🔗 View raw Maryland data: https://raw.githubusercontent.com/aadittambe/slack-bot/main/md_data.csv \\n\\nℹ️ Source: https://healthdata.gov/dataset/COVID-19-Reported-Patient-Impact-and-Hospital-Capa/6xf2-c3ie \\n\\n📁 Analysis: https://github.com/aadittambe/slack-bot\\n'"
      ]
     },
     "execution_count": 141,
     "metadata": {},
     "output_type": "execute_result"
    }
   ],
   "source": [
    "msg"
   ]
  },
  {
   "cell_type": "markdown",
   "id": "d9ef85d6-8298-4f6c-9fa4-656e99ba53e8",
   "metadata": {},
   "source": [
    "## Send Slack message"
   ]
  },
  {
   "cell_type": "code",
   "execution_count": 144,
   "id": "f7b54fbb-48f7-42b8-bff7-f89fb6594b98",
   "metadata": {},
   "outputs": [
    {
     "name": "stdout",
     "output_type": "stream",
     "text": [
      "success!\n"
     ]
    }
   ],
   "source": [
    "slack_token = os.environ[\"SLACK_API_TOKEN\"]\n",
    "client = WebClient(token=slack_token)\n",
    "try:\n",
    "    response = client.chat_postMessage(\n",
    "        channel=\"slack-bots\",\n",
    "        text=msg,\n",
    "        unfurl_links=True, \n",
    "        unfurl_media=True\n",
    "    )\n",
    "    print(\"success!\")\n",
    "except SlackApiError as e:\n",
    "    assert e.response[\"ok\"] is False\n",
    "    assert e.response[\"error\"]\n",
    "    print(f\"Got an error: {e.response['error']}\")"
   ]
  }
 ],
 "metadata": {
  "kernelspec": {
   "display_name": "Python 3 (ipykernel)",
   "language": "python",
   "name": "python3"
  },
  "language_info": {
   "codemirror_mode": {
    "name": "ipython",
    "version": 3
   },
   "file_extension": ".py",
   "mimetype": "text/x-python",
   "name": "python",
   "nbconvert_exporter": "python",
   "pygments_lexer": "ipython3",
   "version": "3.10.2"
  }
 },
 "nbformat": 4,
 "nbformat_minor": 5
}
